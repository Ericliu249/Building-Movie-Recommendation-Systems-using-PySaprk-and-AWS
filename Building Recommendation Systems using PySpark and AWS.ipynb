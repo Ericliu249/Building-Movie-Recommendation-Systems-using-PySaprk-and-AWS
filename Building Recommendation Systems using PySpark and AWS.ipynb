{
 "cells": [
  {
   "cell_type": "code",
   "execution_count": 1,
   "metadata": {},
   "outputs": [],
   "source": [
    "from pyspark import SparkContext\n",
    "from pyspark.sql import SparkSession, SQLContext, Row\n",
    "from pyspark.sql.functions import col, min, max, avg\n",
    "from pyspark.ml.evaluation import RegressionEvaluator\n",
    "from pyspark.ml.recommendation import ALS\n",
    "from pyspark.ml.tuning import ParamGridBuilder, CrossValidator\n",
    "import time\n",
    "from pyspark.sql.types import *"
   ]
  },
  {
   "cell_type": "code",
   "execution_count": 2,
   "metadata": {},
   "outputs": [],
   "source": [
    "sc = SparkContext()"
   ]
  },
  {
   "cell_type": "code",
   "execution_count": 3,
   "metadata": {},
   "outputs": [],
   "source": [
    "sqlContext = SQLContext(sc)"
   ]
  },
  {
   "cell_type": "code",
   "execution_count": 4,
   "metadata": {},
   "outputs": [],
   "source": [
    "spark = SparkSession.builder.appName(\"movie-recommendation-systems\").getOrCreate()"
   ]
  },
  {
   "cell_type": "code",
   "execution_count": 5,
   "metadata": {},
   "outputs": [],
   "source": [
    "ratings_local = spark.read.csv('ratings-2M.csv',header=True)"
   ]
  },
  {
   "cell_type": "code",
   "execution_count": 6,
   "metadata": {},
   "outputs": [],
   "source": [
    "movies = spark.read.csv('movies-27m.csv',header=True)"
   ]
  },
  {
   "cell_type": "markdown",
   "metadata": {},
   "source": [
    "# EDA"
   ]
  },
  {
   "cell_type": "code",
   "execution_count": 7,
   "metadata": {},
   "outputs": [
    {
     "name": "stdout",
     "output_type": "stream",
     "text": [
      "+-------+--------------------+--------------------+\n",
      "|movieId|               title|              genres|\n",
      "+-------+--------------------+--------------------+\n",
      "|      1|    Toy Story (1995)|Adventure|Animati...|\n",
      "|      2|      Jumanji (1995)|Adventure|Childre...|\n",
      "|      3|Grumpier Old Men ...|      Comedy|Romance|\n",
      "|      4|Waiting to Exhale...|Comedy|Drama|Romance|\n",
      "|      5|Father of the Bri...|              Comedy|\n",
      "+-------+--------------------+--------------------+\n",
      "only showing top 5 rows\n",
      "\n"
     ]
    }
   ],
   "source": [
    "movies.show(5)"
   ]
  },
  {
   "cell_type": "code",
   "execution_count": 8,
   "metadata": {
    "scrolled": true
   },
   "outputs": [
    {
     "name": "stdout",
     "output_type": "stream",
     "text": [
      "+---+------+-------+------+----------+\n",
      "|_c0|userId|movieId|rating| timestamp|\n",
      "+---+------+-------+------+----------+\n",
      "|  0|     1|    307|   3.5|1256677221|\n",
      "|  1|     1|    481|   3.5|1256677456|\n",
      "|  2|     1|   1091|   1.5|1256677471|\n",
      "|  3|     1|   1257|   4.5|1256677460|\n",
      "|  4|     1|   1449|   4.5|1256677264|\n",
      "+---+------+-------+------+----------+\n",
      "only showing top 5 rows\n",
      "\n"
     ]
    }
   ],
   "source": [
    "ratings_local.show(5)"
   ]
  },
  {
   "cell_type": "code",
   "execution_count": 9,
   "metadata": {},
   "outputs": [
    {
     "name": "stdout",
     "output_type": "stream",
     "text": [
      "Total instances:  2000000\n"
     ]
    }
   ],
   "source": [
    "total_instances = ratings_local.count()\n",
    "print(\"Total instances: \", total_instances)"
   ]
  },
  {
   "cell_type": "code",
   "execution_count": 10,
   "metadata": {},
   "outputs": [
    {
     "name": "stdout",
     "output_type": "stream",
     "text": [
      "Number of users:  20507\n"
     ]
    }
   ],
   "source": [
    "users_count = ratings_local.select('userId').distinct().count()\n",
    "print(\"Number of users: \", users_count)"
   ]
  },
  {
   "cell_type": "code",
   "execution_count": 11,
   "metadata": {},
   "outputs": [
    {
     "name": "stdout",
     "output_type": "stream",
     "text": [
      "Number of movies:  26030\n"
     ]
    }
   ],
   "source": [
    "movies_count = ratings_local.select('movieId').distinct().count()\n",
    "print(\"Number of movies: \", movies_count)"
   ]
  },
  {
   "cell_type": "code",
   "execution_count": 15,
   "metadata": {},
   "outputs": [
    {
     "name": "stdout",
     "output_type": "stream",
     "text": [
      "+------+-----+\n",
      "|userId|count|\n",
      "+------+-----+\n",
      "|   296|   10|\n",
      "|   467|   10|\n",
      "|   675|    4|\n",
      "|   691|   15|\n",
      "|   829|   15|\n",
      "+------+-----+\n",
      "only showing top 5 rows\n",
      "\n"
     ]
    }
   ],
   "source": [
    "#Number of movie rated by each user\n",
    "ratings_count = ratings_local.groupby('userId').count()\n",
    "ratings_count.show(5)"
   ]
  },
  {
   "cell_type": "code",
   "execution_count": 16,
   "metadata": {},
   "outputs": [
    {
     "name": "stdout",
     "output_type": "stream",
     "text": [
      "+----------+\n",
      "|min(count)|\n",
      "+----------+\n",
      "|         1|\n",
      "+----------+\n",
      "\n"
     ]
    }
   ],
   "source": [
    "#Minimum ratings for movies by user\n",
    "ratings_count.select(min('count')).show()"
   ]
  },
  {
   "cell_type": "code",
   "execution_count": 17,
   "metadata": {},
   "outputs": [
    {
     "name": "stdout",
     "output_type": "stream",
     "text": [
      "+----------+\n",
      "|max(count)|\n",
      "+----------+\n",
      "|      4874|\n",
      "+----------+\n",
      "\n"
     ]
    }
   ],
   "source": [
    "#Maximum ratings for movies by user\n",
    "ratings_count.select(max('count')).show()"
   ]
  },
  {
   "cell_type": "code",
   "execution_count": 18,
   "metadata": {},
   "outputs": [
    {
     "name": "stdout",
     "output_type": "stream",
     "text": [
      "+----------------+\n",
      "|      avg(count)|\n",
      "+----------------+\n",
      "|97.5276734773492|\n",
      "+----------------+\n",
      "\n"
     ]
    }
   ],
   "source": [
    "#Average ratings for movies by user\n",
    "ratings_count.select(avg('count')).show()"
   ]
  },
  {
   "cell_type": "code",
   "execution_count": 12,
   "metadata": {},
   "outputs": [
    {
     "name": "stdout",
     "output_type": "stream",
     "text": [
      "Actual number of ratings:  2000000\n"
     ]
    }
   ],
   "source": [
    "#Number of ratings in matrix\n",
    "numerator = ratings_local.count()\n",
    "print(\"Actual number of ratings: \", numerator)"
   ]
  },
  {
   "cell_type": "code",
   "execution_count": 13,
   "metadata": {},
   "outputs": [
    {
     "name": "stdout",
     "output_type": "stream",
     "text": [
      "Number of ratings if every user watch every moive:  533797210\n"
     ]
    }
   ],
   "source": [
    "#Number of ratings matrix could contain if no empty cells\n",
    "denominator = users_count * movies_count\n",
    "print(\"Number of ratings if every user watch every moive: \", denominator)"
   ]
  },
  {
   "cell_type": "code",
   "execution_count": 14,
   "metadata": {
    "scrolled": true
   },
   "outputs": [
    {
     "name": "stdout",
     "output_type": "stream",
     "text": [
      "Sparsity:  0.9962532587984115\n"
     ]
    }
   ],
   "source": [
    "#Caculating the sparsity of ratings_new\n",
    "sparsity = 1 - (numerator*1.0 / denominator)\n",
    "print(\"Sparsity: \", sparsity)"
   ]
  },
  {
   "cell_type": "code",
   "execution_count": 19,
   "metadata": {},
   "outputs": [
    {
     "name": "stdout",
     "output_type": "stream",
     "text": [
      "Number of users ratings more than 20 movies:  12556\n",
      "Proportion of users who have no less than 20 ratings: 0.6122787340907982\n"
     ]
    }
   ],
   "source": [
    "#What if remove users with less than 20 ratings?\n",
    "ratings_filted = ratings_local.groupby('userId').count().filter(col('count') >= 20)\n",
    "greater20 = ratings_filted.count()/users_count\n",
    "print(\"Number of users ratings more than 20 movies: \", ratings_filted.count())\n",
    "print(\"Proportion of users who have no less than 20 ratings:\", greater20)"
   ]
  },
  {
   "cell_type": "code",
   "execution_count": 20,
   "metadata": {},
   "outputs": [],
   "source": [
    "ratings_local =ratings_local.withColumn('userId', ratings_local['userId'].cast('integer'))\n",
    "ratings_local =ratings_local.withColumn('movieId', ratings_local['movieId'].cast('integer'))\n",
    "ratings_local =ratings_local.withColumn('rating', ratings_local['rating'].cast('float'))\n",
    "ratings_local =ratings_local.withColumn('timestamp', ratings_local['timestamp'].cast('integer'))"
   ]
  },
  {
   "cell_type": "code",
   "execution_count": 21,
   "metadata": {
    "scrolled": false
   },
   "outputs": [
    {
     "name": "stdout",
     "output_type": "stream",
     "text": [
      "root\n",
      " |-- _c0: string (nullable = true)\n",
      " |-- userId: integer (nullable = true)\n",
      " |-- movieId: integer (nullable = true)\n",
      " |-- rating: float (nullable = true)\n",
      " |-- timestamp: integer (nullable = true)\n",
      "\n"
     ]
    }
   ],
   "source": [
    "#Confirm the columns are now in the correct format\n",
    "ratings_local.printSchema()"
   ]
  },
  {
   "cell_type": "code",
   "execution_count": 22,
   "metadata": {},
   "outputs": [
    {
     "name": "stdout",
     "output_type": "stream",
     "text": [
      "+------+-------+------+\n",
      "|userId|movieId|rating|\n",
      "+------+-------+------+\n",
      "|     1|    307|   3.5|\n",
      "|     1|    481|   3.5|\n",
      "|     1|   1091|   1.5|\n",
      "+------+-------+------+\n",
      "only showing top 3 rows\n",
      "\n"
     ]
    }
   ],
   "source": [
    "#Remove unnecssary features from ratings_local\n",
    "ratings_local = ratings_local.select('userId','movieId','rating')\n",
    "ratings_local.show(3)"
   ]
  },
  {
   "cell_type": "code",
   "execution_count": 23,
   "metadata": {},
   "outputs": [],
   "source": [
    "#Convert the type of movieId in movies table\n",
    "movies =movies.withColumn('movieId', movies['movieId'].cast('integer'))"
   ]
  },
  {
   "cell_type": "code",
   "execution_count": 24,
   "metadata": {
    "scrolled": true
   },
   "outputs": [
    {
     "name": "stdout",
     "output_type": "stream",
     "text": [
      "root\n",
      " |-- movieId: integer (nullable = true)\n",
      " |-- title: string (nullable = true)\n",
      " |-- genres: string (nullable = true)\n",
      "\n"
     ]
    }
   ],
   "source": [
    "movies.printSchema()"
   ]
  },
  {
   "cell_type": "code",
   "execution_count": 25,
   "metadata": {},
   "outputs": [],
   "source": [
    "#Join the movies table and the ratings table together\n",
    "movie_ratings = ratings_local.join(movies, on='movieId', how='leftouter')"
   ]
  },
  {
   "cell_type": "code",
   "execution_count": 26,
   "metadata": {},
   "outputs": [
    {
     "name": "stdout",
     "output_type": "stream",
     "text": [
      "+-------+------+------+--------------------+--------------+\n",
      "|movieId|userId|rating|               title|        genres|\n",
      "+-------+------+------+--------------------+--------------+\n",
      "|    307|     1|   3.5|Three Colors: Blu...|         Drama|\n",
      "|    481|     1|   3.5|   Kalifornia (1993)|Drama|Thriller|\n",
      "|   1091|     1|   1.5|Weekend at Bernie...|        Comedy|\n",
      "|   1257|     1|   4.5|Better Off Dead.....|Comedy|Romance|\n",
      "|   1449|     1|   4.5|Waiting for Guffm...|        Comedy|\n",
      "+-------+------+------+--------------------+--------------+\n",
      "only showing top 5 rows\n",
      "\n"
     ]
    }
   ],
   "source": [
    "movie_ratings.show(5)"
   ]
  },
  {
   "cell_type": "markdown",
   "metadata": {},
   "source": [
    "# Building the ALS Recommendation Engines"
   ]
  },
  {
   "cell_type": "code",
   "execution_count": 27,
   "metadata": {
    "scrolled": true
   },
   "outputs": [
    {
     "name": "stdout",
     "output_type": "stream",
     "text": [
      "+-----+---------------+\n",
      "| size|model_cost_time|\n",
      "+-----+---------------+\n",
      "|  500|      25.155996|\n",
      "| 1000|      20.992178|\n",
      "| 2000|       19.99443|\n",
      "| 4000|      21.106209|\n",
      "| 8000|       22.90486|\n",
      "|16000|      23.987976|\n",
      "|32000|      27.568935|\n",
      "|64000|      30.975883|\n",
      "+-----+---------------+\n",
      "\n",
      "+-----+---------+\n",
      "| size|     rmse|\n",
      "+-----+---------+\n",
      "|  500| 4.230382|\n",
      "| 1000|3.2854357|\n",
      "| 2000|2.7728326|\n",
      "| 4000|2.4852667|\n",
      "| 8000|2.1477742|\n",
      "|16000| 1.833819|\n",
      "|32000|1.6032212|\n",
      "|64000|1.3736886|\n",
      "+-----+---------+\n",
      "\n"
     ]
    }
   ],
   "source": [
    "csv_num = [500, 1000, 2000, 4000, 8000, 16000, 32000, 64000, 128000, 256000, 512000, 1000000]\n",
    "\n",
    "sparsity_combination = []\n",
    "maxIter_combination = []\n",
    "regParam_combination = []\n",
    "time_combination = []\n",
    "RMSE_combination = []\n",
    "rank_combination = []\n",
    "\n",
    "\n",
    "for i in csv_num:\n",
    "    \n",
    "    #Take samlpes\n",
    "    ratings_sample = ratings_local.rdd.takeSample(False, i, 1234)\n",
    "\n",
    "    #Create spark dataframes\n",
    "    ratings = sqlContext.createDataFrame(ratings_sample)\n",
    "    \n",
    "    #Record start time\n",
    "    ALS_start = time.time()\n",
    "    \n",
    "    #Split the dataset \n",
    "    (training_data, test_data) = ratings.randomSplit([0.8, 0.2], seed=1234)\n",
    "    \n",
    "    #Build a generic ALS model without hyperparameters\n",
    "    als = ALS(userCol=\"userId\", itemCol=\"movieId\", ratingCol=\"rating\", nonnegative = True,\\\n",
    "          implicitPrefs = False)\n",
    "    \n",
    "    # Add hyperparameters and their respective values to param_grid\n",
    "    param_grid= ParamGridBuilder() \\\n",
    "            .addGrid(als.rank, [10, 15, 20]) \\\n",
    "            .addGrid(als.maxIter, [5, 10, 20]) \\\n",
    "            .addGrid(als.regParam, [0.05, 0.1, 0.15]) \\\n",
    "            .build()\n",
    "    \n",
    "    # Define evaluator as RMSE\n",
    "    evaluator = RegressionEvaluator(metricName=\"rmse\", \\\n",
    "                                    labelCol=\"rating\", predictionCol=\"prediction\")\n",
    "    \n",
    "    #Build cross validation using CrossValidator\n",
    "    cv = CrossValidator(estimator=als, estimatorParamMaps=param_grid, evaluator=evaluator, numFolds=5)\n",
    "    \n",
    "    #Run the cross validation on the training data\n",
    "    model = cv.fit(training_data)\n",
    "    \n",
    "    #Extract best combination of values from cross validation\n",
    "    best_model = model.bestModel\n",
    "    \n",
    "    #Generate test set predictions\n",
    "    predictions = best_model.transform(test_data)\n",
    "    predictions = predictions.na.drop()\n",
    "    \n",
    "    #Evaluate the predictions using RMSE\n",
    "    rmse = evaluator.evaluate(predictions)\n",
    "    ALS_end = time.time()\n",
    "    #print(\"RMSE for size\", i, \": \", rmse)\n",
    "    \n",
    "    rank_combination.append((i, best_model.rank))\n",
    "    maxIter_combination.append((i, best_model._java_obj.parent().getMaxIter()))\n",
    "    regParam_combination.append((i, best_model._java_obj.parent().getRegParam()))\n",
    "    \n",
    "    \n",
    "    model_time = ALS_end - ALS_start\n",
    "    #print(\"ALS cost time for size\", i, \": \", model_time)\n",
    "    \n",
    "    time_combination.append((i, model_time))\n",
    "    RMSE_combination.append((i, rmse))\n",
    "        \n",
    "#df_time = pd.DataFrame(time_combination, columns = ['size', 'model_cost_time']).set_index('size')\n",
    "#df_rmse = pd.DataFrame(RMSE_combination, columns = ['size', 'rmse']).set_index('size')\n",
    "cSchema_time = StructType([StructField(\"size\", IntegerType()),StructField(\"model_cost_time\", FloatType())])\n",
    "cSchema_rmse = StructType([StructField(\"size\", IntegerType()),StructField(\"rmse\", FloatType())])\n",
    "\n",
    "df_time = spark.createDataFrame(time_combination, schema = cSchema_time)\n",
    "df_rmse = spark.createDataFrame(RMSE_combination, schema = cSchema_rmse)\n",
    "\n",
    "df_time.show()\n",
    "df_rmse.show()"
   ]
  },
  {
   "cell_type": "markdown",
   "metadata": {},
   "source": [
    "# Model Performance Evaluation"
   ]
  },
  {
   "cell_type": "code",
   "execution_count": 28,
   "metadata": {},
   "outputs": [],
   "source": [
    "#Generate 3 recommendations for all users\n",
    "ALS_recommendations = best_model.recommendForAllUsers(3)"
   ]
  },
  {
   "cell_type": "code",
   "execution_count": 29,
   "metadata": {},
   "outputs": [
    {
     "name": "stdout",
     "output_type": "stream",
     "text": [
      "+------+--------------------+\n",
      "|userId|     recommendations|\n",
      "+------+--------------------+\n",
      "|  1580|[[104074, 11.8679...|\n",
      "|  4900|[[26395, 8.163957...|\n",
      "|  7880|[[26395, 5.075081...|\n",
      "| 14570|[[565, 7.171178],...|\n",
      "| 15790|[[55253, 4.84224]...|\n",
      "+------+--------------------+\n",
      "only showing top 5 rows\n",
      "\n"
     ]
    }
   ],
   "source": [
    "ALS_recommendations.show(5)"
   ]
  },
  {
   "cell_type": "code",
   "execution_count": 30,
   "metadata": {},
   "outputs": [],
   "source": [
    "ALS_recommendations.registerTempTable('ALS_recs_temp')"
   ]
  },
  {
   "cell_type": "code",
   "execution_count": 31,
   "metadata": {},
   "outputs": [],
   "source": [
    "#Convert the recommder to database type of view\n",
    "convert_recs = spark.sql(\"SELECT userId,\\\n",
    "                               movieIds_and_ratings.movieId AS movieId,\\\n",
    "                               movieIds_and_ratings.rating AS prediction\\\n",
    "                       FROM ALS_recs_temp\\\n",
    "                       LATERAL VIEW explode(recommendations) exploded_table\\\n",
    "                       AS movieIds_and_ratings\")"
   ]
  },
  {
   "cell_type": "code",
   "execution_count": 32,
   "metadata": {},
   "outputs": [
    {
     "name": "stdout",
     "output_type": "stream",
     "text": [
      "+------+-------+----------+\n",
      "|userId|movieId|prediction|\n",
      "+------+-------+----------+\n",
      "|  1580| 104074| 11.867983|\n",
      "|  1580|   1783|  9.381773|\n",
      "|  1580|   7759|  8.470671|\n",
      "|  4900|  26395|  8.163957|\n",
      "|  4900|   2357|  7.987455|\n",
      "+------+-------+----------+\n",
      "only showing top 5 rows\n",
      "\n"
     ]
    }
   ],
   "source": [
    "convert_recs.show(5)"
   ]
  },
  {
   "cell_type": "code",
   "execution_count": 33,
   "metadata": {},
   "outputs": [
    {
     "name": "stdout",
     "output_type": "stream",
     "text": [
      "+-------+------+----------+--------------------+--------------------+\n",
      "|movieId|userId|prediction|               title|              genres|\n",
      "+-------+------+----------+--------------------+--------------------+\n",
      "| 104074|  1580| 11.867983|Percy Jackson: Se...|Adventure|Childre...|\n",
      "|   1783|  1580|  9.381773|     Palmetto (1998)|Crime|Drama|Myste...|\n",
      "|   7759|  1580|  8.470671|   Nostalghia (1983)|               Drama|\n",
      "|  26395|  4900|  8.163957|Rutles: All You N...|              Comedy|\n",
      "|   2357|  4900|  7.987455|Central Station (...|               Drama|\n",
      "+-------+------+----------+--------------------+--------------------+\n",
      "only showing top 5 rows\n",
      "\n"
     ]
    }
   ],
   "source": [
    "#Join the recommder to movie table\n",
    "full_recs = convert_recs.join(movies, ['movieId'], \"left\")\n",
    "full_recs.show(5)"
   ]
  },
  {
   "cell_type": "code",
   "execution_count": 37,
   "metadata": {
    "scrolled": true
   },
   "outputs": [],
   "source": [
    "#Filter the movie the each user have seen before\n",
    "clean_recs = full_recs.join(ratings, [\"userId\", 'movieId'], \"left\").filter(ratings.rating.isNull())"
   ]
  },
  {
   "cell_type": "code",
   "execution_count": 39,
   "metadata": {},
   "outputs": [
    {
     "name": "stdout",
     "output_type": "stream",
     "text": [
      "+------+-------+----------+--------------------+--------------------+------+\n",
      "|userId|movieId|prediction|               title|              genres|rating|\n",
      "+------+-------+----------+--------------------+--------------------+------+\n",
      "|   251| 114893|  8.871814|         Sins (1986)|       Drama|Romance|  null|\n",
      "|   319| 168492|  8.319116|Call Me by Your N...|       Drama|Romance|  null|\n",
      "|   342|  73000|  5.594062|         Nine (2009)|Drama|Musical|Rom...|  null|\n",
      "|   467|   4513|  6.996867|House on Carroll ...|            Thriller|  null|\n",
      "|   549|  82152|   7.58963|      Beastly (2011)|Drama|Fantasy|Rom...|  null|\n",
      "+------+-------+----------+--------------------+--------------------+------+\n",
      "only showing top 5 rows\n",
      "\n"
     ]
    }
   ],
   "source": [
    "clean_recs.show(5)"
   ]
  }
 ],
 "metadata": {
  "kernelspec": {
   "display_name": "Python 3",
   "language": "python",
   "name": "python3"
  },
  "language_info": {
   "codemirror_mode": {
    "name": "ipython",
    "version": 3
   },
   "file_extension": ".py",
   "mimetype": "text/x-python",
   "name": "python",
   "nbconvert_exporter": "python",
   "pygments_lexer": "ipython3",
   "version": "3.7.3"
  }
 },
 "nbformat": 4,
 "nbformat_minor": 2
}
