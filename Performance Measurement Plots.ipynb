{
 "cells": [
  {
   "cell_type": "code",
   "execution_count": 1,
   "metadata": {},
   "outputs": [],
   "source": [
    "import pandas as pd\n",
    "import matplotlib as mpl\n",
    "import matplotlib.pyplot as plt\n",
    "import seaborn as sns\n",
    "import warnings; warnings.filterwarnings(action='once')\n",
    "from matplotlib.axes import Axes"
   ]
  },
  {
   "cell_type": "markdown",
   "metadata": {},
   "source": [
    "# TIME"
   ]
  },
  {
   "cell_type": "code",
   "execution_count": 2,
   "metadata": {},
   "outputs": [],
   "source": [
    "size = [1000, 2000, 4000, 8000, 16000, 32000, 64000, 128000, 256000, 512000, 1000000]"
   ]
  },
  {
   "cell_type": "code",
   "execution_count": 3,
   "metadata": {},
   "outputs": [],
   "source": [
    "local_time_1 = [20.34, 15.8, 16.47, 16.77, 19.36, 20.71, 24.52, 30.80, 39.77, 54.07, 68.28 ]"
   ]
  },
  {
   "cell_type": "code",
   "execution_count": 4,
   "metadata": {},
   "outputs": [],
   "source": [
    "local_time_2 = [22.26, 16.24, 16.66, 17.95, 20.14, 22.40, 24.87, 31.79, 39.95, 53.11, 65.98]"
   ]
  },
  {
   "cell_type": "code",
   "execution_count": 5,
   "metadata": {},
   "outputs": [],
   "source": [
    "local_time_3 = [27.09, 22.14, 23.26, 24.71, 25.93, 27.88, 33.51, 42.54, 53.04, 68.33, 85.19]"
   ]
  },
  {
   "cell_type": "code",
   "execution_count": 6,
   "metadata": {},
   "outputs": [],
   "source": [
    "df_local_time= pd.DataFrame(list(zip(size, local_time_1, local_time_2, local_time_3)))"
   ]
  },
  {
   "cell_type": "code",
   "execution_count": 7,
   "metadata": {},
   "outputs": [],
   "source": [
    "aws_time_1 = [65.69, 39.42, 36.55, 37.30, 35.42, 39.43, 51.82, 53.10, 69.86, 84.30, 109.1]"
   ]
  },
  {
   "cell_type": "code",
   "execution_count": 8,
   "metadata": {},
   "outputs": [],
   "source": [
    "aws_time_2 = [59.23, 51.52, 45.07, 52.59, 51.78, 61.30, 69.65, 81.37, 99.42, 128, 171.39]"
   ]
  },
  {
   "cell_type": "code",
   "execution_count": 9,
   "metadata": {},
   "outputs": [],
   "source": [
    "aws_time_3 = [56.66, 57.48, 50.8, 53.87, 48.86, 50.77, 60.62, 62.85, 80.59, 91.68, 114.04]"
   ]
  },
  {
   "cell_type": "code",
   "execution_count": 42,
   "metadata": {},
   "outputs": [],
   "source": [
    "HFSC_time_1 = [21.48, 21.25, 22.68, 24.42, 25.70, 28.20, 33.41, 59.15, 57.92, 65.74, 83.50]"
   ]
  },
  {
   "cell_type": "code",
   "execution_count": 46,
   "metadata": {},
   "outputs": [],
   "source": [
    "HFSC_time_2 = [30.67, 32.28, 33.28, 34.59, 36.56, 40.86, 49.56, 58.81, 71.62, 87.22, 108.97]"
   ]
  },
  {
   "cell_type": "code",
   "execution_count": 45,
   "metadata": {},
   "outputs": [],
   "source": [
    "HFSC_time_3 = [24.05, 24.37, 25.16, 27.57, 29.12, 32.71, 37.73, 44.94, 56.97, 73.02, 93.37]"
   ]
  },
  {
   "cell_type": "code",
   "execution_count": 47,
   "metadata": {},
   "outputs": [],
   "source": [
    "df_HFSC_time= pd.DataFrame(list(zip(size, HFSC_time_1, HFSC_time_2, HFSC_time_3)))"
   ]
  },
  {
   "cell_type": "code",
   "execution_count": 48,
   "metadata": {},
   "outputs": [],
   "source": [
    "df_HFSC_time.columns = ['size', 'time1', 'time2', 'time3']"
   ]
  },
  {
   "cell_type": "code",
   "execution_count": 50,
   "metadata": {},
   "outputs": [],
   "source": [
    "df_HFSC_time = df_HFSC_time.set_index('size')"
   ]
  },
  {
   "cell_type": "code",
   "execution_count": 54,
   "metadata": {},
   "outputs": [],
   "source": [
    "df_HFSC_time['avg_time_HFSC'] = df_HFSC_time.mean(axis=1)"
   ]
  },
  {
   "cell_type": "code",
   "execution_count": 57,
   "metadata": {
    "scrolled": false
   },
   "outputs": [
    {
     "data": {
      "text/html": [
       "<div>\n",
       "<style scoped>\n",
       "    .dataframe tbody tr th:only-of-type {\n",
       "        vertical-align: middle;\n",
       "    }\n",
       "\n",
       "    .dataframe tbody tr th {\n",
       "        vertical-align: top;\n",
       "    }\n",
       "\n",
       "    .dataframe thead th {\n",
       "        text-align: right;\n",
       "    }\n",
       "</style>\n",
       "<table border=\"1\" class=\"dataframe\">\n",
       "  <thead>\n",
       "    <tr style=\"text-align: right;\">\n",
       "      <th></th>\n",
       "      <th>time1</th>\n",
       "      <th>time2</th>\n",
       "      <th>time3</th>\n",
       "      <th>avg_time_HFSC</th>\n",
       "    </tr>\n",
       "    <tr>\n",
       "      <th>size</th>\n",
       "      <th></th>\n",
       "      <th></th>\n",
       "      <th></th>\n",
       "      <th></th>\n",
       "    </tr>\n",
       "  </thead>\n",
       "  <tbody>\n",
       "    <tr>\n",
       "      <th>1000</th>\n",
       "      <td>27.04</td>\n",
       "      <td>30.67</td>\n",
       "      <td>24.05</td>\n",
       "      <td>27.253333</td>\n",
       "    </tr>\n",
       "    <tr>\n",
       "      <th>2000</th>\n",
       "      <td>21.48</td>\n",
       "      <td>32.28</td>\n",
       "      <td>24.37</td>\n",
       "      <td>26.043333</td>\n",
       "    </tr>\n",
       "    <tr>\n",
       "      <th>4000</th>\n",
       "      <td>21.25</td>\n",
       "      <td>33.28</td>\n",
       "      <td>25.16</td>\n",
       "      <td>26.563333</td>\n",
       "    </tr>\n",
       "    <tr>\n",
       "      <th>8000</th>\n",
       "      <td>22.68</td>\n",
       "      <td>34.59</td>\n",
       "      <td>27.57</td>\n",
       "      <td>28.280000</td>\n",
       "    </tr>\n",
       "    <tr>\n",
       "      <th>16000</th>\n",
       "      <td>24.42</td>\n",
       "      <td>36.56</td>\n",
       "      <td>29.12</td>\n",
       "      <td>30.033333</td>\n",
       "    </tr>\n",
       "    <tr>\n",
       "      <th>32000</th>\n",
       "      <td>25.70</td>\n",
       "      <td>40.86</td>\n",
       "      <td>32.71</td>\n",
       "      <td>33.090000</td>\n",
       "    </tr>\n",
       "    <tr>\n",
       "      <th>64000</th>\n",
       "      <td>28.20</td>\n",
       "      <td>49.56</td>\n",
       "      <td>37.73</td>\n",
       "      <td>38.496667</td>\n",
       "    </tr>\n",
       "    <tr>\n",
       "      <th>128000</th>\n",
       "      <td>33.41</td>\n",
       "      <td>58.81</td>\n",
       "      <td>44.94</td>\n",
       "      <td>45.720000</td>\n",
       "    </tr>\n",
       "    <tr>\n",
       "      <th>256000</th>\n",
       "      <td>59.15</td>\n",
       "      <td>71.62</td>\n",
       "      <td>56.97</td>\n",
       "      <td>62.580000</td>\n",
       "    </tr>\n",
       "    <tr>\n",
       "      <th>512000</th>\n",
       "      <td>57.92</td>\n",
       "      <td>87.22</td>\n",
       "      <td>73.02</td>\n",
       "      <td>72.720000</td>\n",
       "    </tr>\n",
       "    <tr>\n",
       "      <th>1000000</th>\n",
       "      <td>65.74</td>\n",
       "      <td>108.97</td>\n",
       "      <td>93.37</td>\n",
       "      <td>89.360000</td>\n",
       "    </tr>\n",
       "  </tbody>\n",
       "</table>\n",
       "</div>"
      ],
      "text/plain": [
       "         time1   time2  time3  avg_time_HFSC\n",
       "size                                        \n",
       "1000     27.04   30.67  24.05      27.253333\n",
       "2000     21.48   32.28  24.37      26.043333\n",
       "4000     21.25   33.28  25.16      26.563333\n",
       "8000     22.68   34.59  27.57      28.280000\n",
       "16000    24.42   36.56  29.12      30.033333\n",
       "32000    25.70   40.86  32.71      33.090000\n",
       "64000    28.20   49.56  37.73      38.496667\n",
       "128000   33.41   58.81  44.94      45.720000\n",
       "256000   59.15   71.62  56.97      62.580000\n",
       "512000   57.92   87.22  73.02      72.720000\n",
       "1000000  65.74  108.97  93.37      89.360000"
      ]
     },
     "execution_count": 57,
     "metadata": {},
     "output_type": "execute_result"
    }
   ],
   "source": [
    "df_HFSC_time"
   ]
  },
  {
   "cell_type": "code",
   "execution_count": null,
   "metadata": {},
   "outputs": [],
   "source": []
  },
  {
   "cell_type": "code",
   "execution_count": 10,
   "metadata": {},
   "outputs": [],
   "source": [
    "df_aws_time= pd.DataFrame(list(zip(size, aws_time_1, aws_time_2, aws_time_3)))"
   ]
  },
  {
   "cell_type": "code",
   "execution_count": 11,
   "metadata": {},
   "outputs": [],
   "source": [
    "df_aws_time.columns = ['size', 'time1', 'time2', 'time3']"
   ]
  },
  {
   "cell_type": "code",
   "execution_count": 55,
   "metadata": {},
   "outputs": [],
   "source": [
    "df_aws_time['avg_time_local'] = df_aws_time.mean(axis=1)"
   ]
  },
  {
   "cell_type": "code",
   "execution_count": 56,
   "metadata": {
    "scrolled": true
   },
   "outputs": [
    {
     "data": {
      "text/html": [
       "<div>\n",
       "<style scoped>\n",
       "    .dataframe tbody tr th:only-of-type {\n",
       "        vertical-align: middle;\n",
       "    }\n",
       "\n",
       "    .dataframe tbody tr th {\n",
       "        vertical-align: top;\n",
       "    }\n",
       "\n",
       "    .dataframe thead th {\n",
       "        text-align: right;\n",
       "    }\n",
       "</style>\n",
       "<table border=\"1\" class=\"dataframe\">\n",
       "  <thead>\n",
       "    <tr style=\"text-align: right;\">\n",
       "      <th></th>\n",
       "      <th>time1</th>\n",
       "      <th>time2</th>\n",
       "      <th>time3</th>\n",
       "      <th>avg_time_local</th>\n",
       "    </tr>\n",
       "    <tr>\n",
       "      <th>size</th>\n",
       "      <th></th>\n",
       "      <th></th>\n",
       "      <th></th>\n",
       "      <th></th>\n",
       "    </tr>\n",
       "  </thead>\n",
       "  <tbody>\n",
       "    <tr>\n",
       "      <th>1000</th>\n",
       "      <td>65.69</td>\n",
       "      <td>59.23</td>\n",
       "      <td>56.66</td>\n",
       "      <td>60.526667</td>\n",
       "    </tr>\n",
       "    <tr>\n",
       "      <th>2000</th>\n",
       "      <td>39.42</td>\n",
       "      <td>51.52</td>\n",
       "      <td>57.48</td>\n",
       "      <td>49.473333</td>\n",
       "    </tr>\n",
       "    <tr>\n",
       "      <th>4000</th>\n",
       "      <td>36.55</td>\n",
       "      <td>45.07</td>\n",
       "      <td>50.80</td>\n",
       "      <td>44.140000</td>\n",
       "    </tr>\n",
       "    <tr>\n",
       "      <th>8000</th>\n",
       "      <td>37.30</td>\n",
       "      <td>52.59</td>\n",
       "      <td>53.87</td>\n",
       "      <td>47.920000</td>\n",
       "    </tr>\n",
       "    <tr>\n",
       "      <th>16000</th>\n",
       "      <td>35.42</td>\n",
       "      <td>51.78</td>\n",
       "      <td>48.86</td>\n",
       "      <td>45.353333</td>\n",
       "    </tr>\n",
       "    <tr>\n",
       "      <th>32000</th>\n",
       "      <td>39.43</td>\n",
       "      <td>61.30</td>\n",
       "      <td>50.77</td>\n",
       "      <td>50.500000</td>\n",
       "    </tr>\n",
       "    <tr>\n",
       "      <th>64000</th>\n",
       "      <td>51.82</td>\n",
       "      <td>69.65</td>\n",
       "      <td>60.62</td>\n",
       "      <td>60.696667</td>\n",
       "    </tr>\n",
       "    <tr>\n",
       "      <th>128000</th>\n",
       "      <td>53.10</td>\n",
       "      <td>81.37</td>\n",
       "      <td>62.85</td>\n",
       "      <td>65.773333</td>\n",
       "    </tr>\n",
       "    <tr>\n",
       "      <th>256000</th>\n",
       "      <td>69.86</td>\n",
       "      <td>99.42</td>\n",
       "      <td>80.59</td>\n",
       "      <td>83.290000</td>\n",
       "    </tr>\n",
       "    <tr>\n",
       "      <th>512000</th>\n",
       "      <td>84.30</td>\n",
       "      <td>128.00</td>\n",
       "      <td>91.68</td>\n",
       "      <td>101.326667</td>\n",
       "    </tr>\n",
       "    <tr>\n",
       "      <th>1000000</th>\n",
       "      <td>109.10</td>\n",
       "      <td>171.39</td>\n",
       "      <td>114.04</td>\n",
       "      <td>131.510000</td>\n",
       "    </tr>\n",
       "  </tbody>\n",
       "</table>\n",
       "</div>"
      ],
      "text/plain": [
       "          time1   time2   time3  avg_time_local\n",
       "size                                           \n",
       "1000      65.69   59.23   56.66       60.526667\n",
       "2000      39.42   51.52   57.48       49.473333\n",
       "4000      36.55   45.07   50.80       44.140000\n",
       "8000      37.30   52.59   53.87       47.920000\n",
       "16000     35.42   51.78   48.86       45.353333\n",
       "32000     39.43   61.30   50.77       50.500000\n",
       "64000     51.82   69.65   60.62       60.696667\n",
       "128000    53.10   81.37   62.85       65.773333\n",
       "256000    69.86   99.42   80.59       83.290000\n",
       "512000    84.30  128.00   91.68      101.326667\n",
       "1000000  109.10  171.39  114.04      131.510000"
      ]
     },
     "execution_count": 56,
     "metadata": {},
     "output_type": "execute_result"
    }
   ],
   "source": [
    "df_aws_time"
   ]
  },
  {
   "cell_type": "code",
   "execution_count": 13,
   "metadata": {},
   "outputs": [],
   "source": [
    "df_local_time.columns = ['size', 'time1', 'time2', 'time3']"
   ]
  },
  {
   "cell_type": "code",
   "execution_count": 14,
   "metadata": {},
   "outputs": [
    {
     "data": {
      "text/html": [
       "<div>\n",
       "<style scoped>\n",
       "    .dataframe tbody tr th:only-of-type {\n",
       "        vertical-align: middle;\n",
       "    }\n",
       "\n",
       "    .dataframe tbody tr th {\n",
       "        vertical-align: top;\n",
       "    }\n",
       "\n",
       "    .dataframe thead th {\n",
       "        text-align: right;\n",
       "    }\n",
       "</style>\n",
       "<table border=\"1\" class=\"dataframe\">\n",
       "  <thead>\n",
       "    <tr style=\"text-align: right;\">\n",
       "      <th></th>\n",
       "      <th>size</th>\n",
       "      <th>time1</th>\n",
       "      <th>time2</th>\n",
       "      <th>time3</th>\n",
       "    </tr>\n",
       "  </thead>\n",
       "  <tbody>\n",
       "    <tr>\n",
       "      <th>0</th>\n",
       "      <td>1000</td>\n",
       "      <td>20.34</td>\n",
       "      <td>22.26</td>\n",
       "      <td>27.09</td>\n",
       "    </tr>\n",
       "    <tr>\n",
       "      <th>1</th>\n",
       "      <td>2000</td>\n",
       "      <td>15.80</td>\n",
       "      <td>16.24</td>\n",
       "      <td>22.14</td>\n",
       "    </tr>\n",
       "    <tr>\n",
       "      <th>2</th>\n",
       "      <td>4000</td>\n",
       "      <td>16.47</td>\n",
       "      <td>16.66</td>\n",
       "      <td>23.26</td>\n",
       "    </tr>\n",
       "    <tr>\n",
       "      <th>3</th>\n",
       "      <td>8000</td>\n",
       "      <td>16.77</td>\n",
       "      <td>17.95</td>\n",
       "      <td>24.71</td>\n",
       "    </tr>\n",
       "    <tr>\n",
       "      <th>4</th>\n",
       "      <td>16000</td>\n",
       "      <td>19.36</td>\n",
       "      <td>20.14</td>\n",
       "      <td>25.93</td>\n",
       "    </tr>\n",
       "    <tr>\n",
       "      <th>5</th>\n",
       "      <td>32000</td>\n",
       "      <td>20.71</td>\n",
       "      <td>22.40</td>\n",
       "      <td>27.88</td>\n",
       "    </tr>\n",
       "    <tr>\n",
       "      <th>6</th>\n",
       "      <td>64000</td>\n",
       "      <td>24.52</td>\n",
       "      <td>24.87</td>\n",
       "      <td>33.51</td>\n",
       "    </tr>\n",
       "    <tr>\n",
       "      <th>7</th>\n",
       "      <td>128000</td>\n",
       "      <td>30.80</td>\n",
       "      <td>31.79</td>\n",
       "      <td>42.54</td>\n",
       "    </tr>\n",
       "    <tr>\n",
       "      <th>8</th>\n",
       "      <td>256000</td>\n",
       "      <td>39.77</td>\n",
       "      <td>39.95</td>\n",
       "      <td>53.04</td>\n",
       "    </tr>\n",
       "    <tr>\n",
       "      <th>9</th>\n",
       "      <td>512000</td>\n",
       "      <td>54.07</td>\n",
       "      <td>53.11</td>\n",
       "      <td>68.33</td>\n",
       "    </tr>\n",
       "    <tr>\n",
       "      <th>10</th>\n",
       "      <td>1000000</td>\n",
       "      <td>68.28</td>\n",
       "      <td>65.98</td>\n",
       "      <td>85.19</td>\n",
       "    </tr>\n",
       "  </tbody>\n",
       "</table>\n",
       "</div>"
      ],
      "text/plain": [
       "       size  time1  time2  time3\n",
       "0      1000  20.34  22.26  27.09\n",
       "1      2000  15.80  16.24  22.14\n",
       "2      4000  16.47  16.66  23.26\n",
       "3      8000  16.77  17.95  24.71\n",
       "4     16000  19.36  20.14  25.93\n",
       "5     32000  20.71  22.40  27.88\n",
       "6     64000  24.52  24.87  33.51\n",
       "7    128000  30.80  31.79  42.54\n",
       "8    256000  39.77  39.95  53.04\n",
       "9    512000  54.07  53.11  68.33\n",
       "10  1000000  68.28  65.98  85.19"
      ]
     },
     "execution_count": 14,
     "metadata": {},
     "output_type": "execute_result"
    }
   ],
   "source": [
    "df_local_time"
   ]
  },
  {
   "cell_type": "code",
   "execution_count": 15,
   "metadata": {},
   "outputs": [],
   "source": [
    "df_aws_time = df_aws_time.set_index('size')"
   ]
  },
  {
   "cell_type": "code",
   "execution_count": 16,
   "metadata": {},
   "outputs": [],
   "source": [
    "df_aws_time['avg_time_local'] = df_aws_time.mean(axis=1)"
   ]
  },
  {
   "cell_type": "code",
   "execution_count": 17,
   "metadata": {},
   "outputs": [
    {
     "data": {
      "text/html": [
       "<div>\n",
       "<style scoped>\n",
       "    .dataframe tbody tr th:only-of-type {\n",
       "        vertical-align: middle;\n",
       "    }\n",
       "\n",
       "    .dataframe tbody tr th {\n",
       "        vertical-align: top;\n",
       "    }\n",
       "\n",
       "    .dataframe thead th {\n",
       "        text-align: right;\n",
       "    }\n",
       "</style>\n",
       "<table border=\"1\" class=\"dataframe\">\n",
       "  <thead>\n",
       "    <tr style=\"text-align: right;\">\n",
       "      <th></th>\n",
       "      <th>time1</th>\n",
       "      <th>time2</th>\n",
       "      <th>time3</th>\n",
       "      <th>avg_time_local</th>\n",
       "    </tr>\n",
       "    <tr>\n",
       "      <th>size</th>\n",
       "      <th></th>\n",
       "      <th></th>\n",
       "      <th></th>\n",
       "      <th></th>\n",
       "    </tr>\n",
       "  </thead>\n",
       "  <tbody>\n",
       "    <tr>\n",
       "      <th>1000</th>\n",
       "      <td>65.69</td>\n",
       "      <td>59.23</td>\n",
       "      <td>56.66</td>\n",
       "      <td>60.526667</td>\n",
       "    </tr>\n",
       "    <tr>\n",
       "      <th>2000</th>\n",
       "      <td>39.42</td>\n",
       "      <td>51.52</td>\n",
       "      <td>57.48</td>\n",
       "      <td>49.473333</td>\n",
       "    </tr>\n",
       "    <tr>\n",
       "      <th>4000</th>\n",
       "      <td>36.55</td>\n",
       "      <td>45.07</td>\n",
       "      <td>50.80</td>\n",
       "      <td>44.140000</td>\n",
       "    </tr>\n",
       "    <tr>\n",
       "      <th>8000</th>\n",
       "      <td>37.30</td>\n",
       "      <td>52.59</td>\n",
       "      <td>53.87</td>\n",
       "      <td>47.920000</td>\n",
       "    </tr>\n",
       "    <tr>\n",
       "      <th>16000</th>\n",
       "      <td>35.42</td>\n",
       "      <td>51.78</td>\n",
       "      <td>48.86</td>\n",
       "      <td>45.353333</td>\n",
       "    </tr>\n",
       "    <tr>\n",
       "      <th>32000</th>\n",
       "      <td>39.43</td>\n",
       "      <td>61.30</td>\n",
       "      <td>50.77</td>\n",
       "      <td>50.500000</td>\n",
       "    </tr>\n",
       "    <tr>\n",
       "      <th>64000</th>\n",
       "      <td>51.82</td>\n",
       "      <td>69.65</td>\n",
       "      <td>60.62</td>\n",
       "      <td>60.696667</td>\n",
       "    </tr>\n",
       "    <tr>\n",
       "      <th>128000</th>\n",
       "      <td>53.10</td>\n",
       "      <td>81.37</td>\n",
       "      <td>62.85</td>\n",
       "      <td>65.773333</td>\n",
       "    </tr>\n",
       "    <tr>\n",
       "      <th>256000</th>\n",
       "      <td>69.86</td>\n",
       "      <td>99.42</td>\n",
       "      <td>80.59</td>\n",
       "      <td>83.290000</td>\n",
       "    </tr>\n",
       "    <tr>\n",
       "      <th>512000</th>\n",
       "      <td>84.30</td>\n",
       "      <td>128.00</td>\n",
       "      <td>91.68</td>\n",
       "      <td>101.326667</td>\n",
       "    </tr>\n",
       "    <tr>\n",
       "      <th>1000000</th>\n",
       "      <td>109.10</td>\n",
       "      <td>171.39</td>\n",
       "      <td>114.04</td>\n",
       "      <td>131.510000</td>\n",
       "    </tr>\n",
       "  </tbody>\n",
       "</table>\n",
       "</div>"
      ],
      "text/plain": [
       "          time1   time2   time3  avg_time_local\n",
       "size                                           \n",
       "1000      65.69   59.23   56.66       60.526667\n",
       "2000      39.42   51.52   57.48       49.473333\n",
       "4000      36.55   45.07   50.80       44.140000\n",
       "8000      37.30   52.59   53.87       47.920000\n",
       "16000     35.42   51.78   48.86       45.353333\n",
       "32000     39.43   61.30   50.77       50.500000\n",
       "64000     51.82   69.65   60.62       60.696667\n",
       "128000    53.10   81.37   62.85       65.773333\n",
       "256000    69.86   99.42   80.59       83.290000\n",
       "512000    84.30  128.00   91.68      101.326667\n",
       "1000000  109.10  171.39  114.04      131.510000"
      ]
     },
     "execution_count": 17,
     "metadata": {},
     "output_type": "execute_result"
    }
   ],
   "source": [
    "df_aws_time"
   ]
  },
  {
   "cell_type": "code",
   "execution_count": 18,
   "metadata": {},
   "outputs": [],
   "source": [
    "df_local_time = df_local_time.set_index('size')"
   ]
  },
  {
   "cell_type": "code",
   "execution_count": 19,
   "metadata": {},
   "outputs": [],
   "source": [
    "df_local_time['avg_time_AWS'] = df_local_time.mean(axis=1)"
   ]
  },
  {
   "cell_type": "code",
   "execution_count": 20,
   "metadata": {},
   "outputs": [
    {
     "data": {
      "text/html": [
       "<div>\n",
       "<style scoped>\n",
       "    .dataframe tbody tr th:only-of-type {\n",
       "        vertical-align: middle;\n",
       "    }\n",
       "\n",
       "    .dataframe tbody tr th {\n",
       "        vertical-align: top;\n",
       "    }\n",
       "\n",
       "    .dataframe thead th {\n",
       "        text-align: right;\n",
       "    }\n",
       "</style>\n",
       "<table border=\"1\" class=\"dataframe\">\n",
       "  <thead>\n",
       "    <tr style=\"text-align: right;\">\n",
       "      <th></th>\n",
       "      <th>time1</th>\n",
       "      <th>time2</th>\n",
       "      <th>time3</th>\n",
       "      <th>avg_time_AWS</th>\n",
       "    </tr>\n",
       "    <tr>\n",
       "      <th>size</th>\n",
       "      <th></th>\n",
       "      <th></th>\n",
       "      <th></th>\n",
       "      <th></th>\n",
       "    </tr>\n",
       "  </thead>\n",
       "  <tbody>\n",
       "    <tr>\n",
       "      <th>1000</th>\n",
       "      <td>20.34</td>\n",
       "      <td>22.26</td>\n",
       "      <td>27.09</td>\n",
       "      <td>23.230000</td>\n",
       "    </tr>\n",
       "    <tr>\n",
       "      <th>2000</th>\n",
       "      <td>15.80</td>\n",
       "      <td>16.24</td>\n",
       "      <td>22.14</td>\n",
       "      <td>18.060000</td>\n",
       "    </tr>\n",
       "    <tr>\n",
       "      <th>4000</th>\n",
       "      <td>16.47</td>\n",
       "      <td>16.66</td>\n",
       "      <td>23.26</td>\n",
       "      <td>18.796667</td>\n",
       "    </tr>\n",
       "    <tr>\n",
       "      <th>8000</th>\n",
       "      <td>16.77</td>\n",
       "      <td>17.95</td>\n",
       "      <td>24.71</td>\n",
       "      <td>19.810000</td>\n",
       "    </tr>\n",
       "    <tr>\n",
       "      <th>16000</th>\n",
       "      <td>19.36</td>\n",
       "      <td>20.14</td>\n",
       "      <td>25.93</td>\n",
       "      <td>21.810000</td>\n",
       "    </tr>\n",
       "  </tbody>\n",
       "</table>\n",
       "</div>"
      ],
      "text/plain": [
       "       time1  time2  time3  avg_time_AWS\n",
       "size                                    \n",
       "1000   20.34  22.26  27.09     23.230000\n",
       "2000   15.80  16.24  22.14     18.060000\n",
       "4000   16.47  16.66  23.26     18.796667\n",
       "8000   16.77  17.95  24.71     19.810000\n",
       "16000  19.36  20.14  25.93     21.810000"
      ]
     },
     "execution_count": 20,
     "metadata": {},
     "output_type": "execute_result"
    }
   ],
   "source": [
    "df_local_time.head()"
   ]
  },
  {
   "cell_type": "code",
   "execution_count": 79,
   "metadata": {},
   "outputs": [
    {
     "data": {
      "image/png": "[encoded data removed]",
      "text/plain": [
       "<Figure size 840x600 with 1 Axes>"
      ]
     },
     "metadata": {
      "needs_background": "light"
     },
     "output_type": "display_data"
    }
   ],
   "source": [
    "plt.figure(figsize=(7,5), dpi= 120);\n",
    "plt.plot(df_aws_time['avg_time_local'], color='blue', lw=2);\n",
    "plt.plot(df_HFSC_time['avg_time_HFSC'], color='darkorange', lw=2);\n",
    "plt.legend()\n",
    "plt.scatter(df_aws_time.index,df_aws_time['avg_time_local'], color='blue', lw=2);\n",
    "plt.scatter(df_HFSC_time.index,df_HFSC_time['avg_time_HFSC'], color='darkorange', lw=2);\n",
    "plt.xlim([0, 1000000]);\n",
    "plt.xlabel('SCALE: NUMBER OF INSTANCES',fontsize=12);\n",
    "plt.ylabel('RUNTIME(SECONDS)',fontsize=12);\n",
    "plt.title('ALS RUNTIME COMPARISON ON MOVIELENS DATASET', fontdict={'size':14});\n",
    "plt.grid(alpha=0.5)\n",
    "labels = ['0','200k', '400k', '600k', '800k', '1000k']\n",
    "plt.gca().set_xticklabels(labels=labels, fontdict=None, minor=False)\n",
    "plt.show();"
   ]
  },
  {
   "cell_type": "code",
   "execution_count": 78,
   "metadata": {},
   "outputs": [
    {
     "data": {
      "image/png": "[encoded data removed]",
      "text/plain": [
       "<Figure size 840x600 with 1 Axes>"
      ]
     },
     "metadata": {
      "needs_background": "light"
     },
     "output_type": "display_data"
    }
   ],
   "source": [
    "plt.figure(figsize=(7,5), dpi= 120);\n",
    "plt.plot(df_local_time['avg_time_AWS'], color='green', lw=2);\n",
    "plt.plot(df_aws_time['avg_time_local'], color='blue', lw=2);\n",
    "plt.plot(df_HFSC_time['avg_time_HFSC'], color='darkorange', lw=2);\n",
    "plt.legend()\n",
    "plt.scatter(df_local_time.index,df_local_time['avg_time_AWS'], color='green', lw=2);\n",
    "plt.scatter(df_aws_time.index,df_aws_time['avg_time_local'], color='blue', lw=2);\n",
    "plt.scatter(df_HFSC_time.index,df_HFSC_time['avg_time_HFSC'], color='darkorange', lw=2);\n",
    "plt.xlim([0, 1000000]);\n",
    "plt.xlabel('SCALE: NUMBER OF INSTANCES',fontsize=12);\n",
    "plt.ylabel('RUNTIME(SECONDS)',fontsize=12);\n",
    "plt.title('ALS RUNTIME COMPARISON ON MOVIELENS DATASET', fontdict={'size':14});\n",
    "plt.grid(alpha=0.5)\n",
    "labels = ['0','200k', '400k', '600k', '800k', '1000k']\n",
    "plt.gca().set_xticklabels(labels=labels, fontdict=None, minor=False)\n",
    "plt.show();"
   ]
  },
  {
   "cell_type": "markdown",
   "metadata": {},
   "source": [
    "# RMSE"
   ]
  },
  {
   "cell_type": "code",
   "execution_count": 22,
   "metadata": {},
   "outputs": [],
   "source": [
    "local_rmse_1 = [2.63, 2.82, 2.56, 2.15, 1.85, 1.57, 1.36, 1.20, 1.08, 0.98, 0.9]"
   ]
  },
  {
   "cell_type": "code",
   "execution_count": 23,
   "metadata": {},
   "outputs": [],
   "source": [
    "local_rmse_2 = [2.36, 2.86, 2.54, 2.20, 1.82, 1.59, 1.38, 1.20, 1.08, 0.98, 0.9]"
   ]
  },
  {
   "cell_type": "code",
   "execution_count": 24,
   "metadata": {},
   "outputs": [],
   "source": [
    "local_rmse_3 = [2.54, 2.67, 2.55, 2.20, 1.83, 1.58, 1.38, 1.21, 1.07, 0.98, 0.9]"
   ]
  },
  {
   "cell_type": "code",
   "execution_count": 25,
   "metadata": {},
   "outputs": [],
   "source": [
    "aws_rmse_1 =   [2.53, 2.54, 2.25, 1.84, 1.58, 1.35, 1.22, 1.08, 0.99, 0.92, 0.88]"
   ]
  },
  {
   "cell_type": "code",
   "execution_count": 72,
   "metadata": {},
   "outputs": [],
   "source": [
    "aws_rmse_2 =   [2.53, 2.44, 2.17, 1.88, 1.58, 1.35, 1.20, 1.08, 0.99, 0.92, 0.88]"
   ]
  },
  {
   "cell_type": "code",
   "execution_count": 62,
   "metadata": {},
   "outputs": [],
   "source": [
    "aws_rmse_3 =  [1.67, 1.65, 1.50, 1.34, 1.21, 1.10, 0.99, 0.95, 0.91, 0.88, 0.88]"
   ]
  },
  {
   "cell_type": "code",
   "execution_count": 60,
   "metadata": {},
   "outputs": [],
   "source": [
    "HFSC_rmse_1 =  [3.26, 2.62, 2.63, 2.17, 1.81, 1.59, 1.37, 1.20, 1.07, 0.99, 0.90]"
   ]
  },
  {
   "cell_type": "code",
   "execution_count": 61,
   "metadata": {},
   "outputs": [],
   "source": [
    "HFSC_rmse_2 =  [2.89, 2.75, 2.53, 1.98, 1.57, 1.32, 1.24, 1.17, 1.07, 0.96, 0.88]"
   ]
  },
  {
   "cell_type": "code",
   "execution_count": 63,
   "metadata": {},
   "outputs": [],
   "source": [
    "HFSC_rmse_3 =   [2.53, 2.44, 2.54, 1.84, 1.58, 1.35, 1.22, 1.08, 0.99, 0.92, 0.88]"
   ]
  },
  {
   "cell_type": "code",
   "execution_count": 64,
   "metadata": {},
   "outputs": [],
   "source": [
    "df_HFSC_rmse= pd.DataFrame(list(zip(size, HFSC_rmse_1, HFSC_rmse_2, HFSC_rmse_3)))"
   ]
  },
  {
   "cell_type": "code",
   "execution_count": 28,
   "metadata": {},
   "outputs": [],
   "source": [
    "df_aws_rmse= pd.DataFrame(list(zip(size, aws_rmse_1, aws_rmse_2, aws_rmse_3)))"
   ]
  },
  {
   "cell_type": "code",
   "execution_count": 65,
   "metadata": {},
   "outputs": [],
   "source": [
    "df_HFSC_rmse.columns = ['size', 'rmse1', 'rmse2', 'rmse3']"
   ]
  },
  {
   "cell_type": "code",
   "execution_count": 66,
   "metadata": {},
   "outputs": [],
   "source": [
    "df_HFSC_rmse = df_HFSC_rmse.set_index('size')"
   ]
  },
  {
   "cell_type": "code",
   "execution_count": 67,
   "metadata": {},
   "outputs": [],
   "source": [
    "df_HFSC_rmse['avg_rmse_HFSC'] = df_HFSC_rmse.mean(axis=1)"
   ]
  },
  {
   "cell_type": "code",
   "execution_count": 68,
   "metadata": {},
   "outputs": [
    {
     "data": {
      "text/html": [
       "<div>\n",
       "<style scoped>\n",
       "    .dataframe tbody tr th:only-of-type {\n",
       "        vertical-align: middle;\n",
       "    }\n",
       "\n",
       "    .dataframe tbody tr th {\n",
       "        vertical-align: top;\n",
       "    }\n",
       "\n",
       "    .dataframe thead th {\n",
       "        text-align: right;\n",
       "    }\n",
       "</style>\n",
       "<table border=\"1\" class=\"dataframe\">\n",
       "  <thead>\n",
       "    <tr style=\"text-align: right;\">\n",
       "      <th></th>\n",
       "      <th>rmse1</th>\n",
       "      <th>rmse2</th>\n",
       "      <th>rmse3</th>\n",
       "      <th>avg_rmse_HFSC</th>\n",
       "    </tr>\n",
       "    <tr>\n",
       "      <th>size</th>\n",
       "      <th></th>\n",
       "      <th></th>\n",
       "      <th></th>\n",
       "      <th></th>\n",
       "    </tr>\n",
       "  </thead>\n",
       "  <tbody>\n",
       "    <tr>\n",
       "      <th>1000</th>\n",
       "      <td>3.26</td>\n",
       "      <td>2.89</td>\n",
       "      <td>2.53</td>\n",
       "      <td>2.893333</td>\n",
       "    </tr>\n",
       "    <tr>\n",
       "      <th>2000</th>\n",
       "      <td>2.62</td>\n",
       "      <td>2.75</td>\n",
       "      <td>2.44</td>\n",
       "      <td>2.603333</td>\n",
       "    </tr>\n",
       "    <tr>\n",
       "      <th>4000</th>\n",
       "      <td>2.63</td>\n",
       "      <td>2.53</td>\n",
       "      <td>2.54</td>\n",
       "      <td>2.566667</td>\n",
       "    </tr>\n",
       "    <tr>\n",
       "      <th>8000</th>\n",
       "      <td>2.17</td>\n",
       "      <td>1.98</td>\n",
       "      <td>1.84</td>\n",
       "      <td>1.996667</td>\n",
       "    </tr>\n",
       "    <tr>\n",
       "      <th>16000</th>\n",
       "      <td>1.81</td>\n",
       "      <td>1.57</td>\n",
       "      <td>1.58</td>\n",
       "      <td>1.653333</td>\n",
       "    </tr>\n",
       "  </tbody>\n",
       "</table>\n",
       "</div>"
      ],
      "text/plain": [
       "       rmse1  rmse2  rmse3  avg_rmse_HFSC\n",
       "size                                     \n",
       "1000    3.26   2.89   2.53       2.893333\n",
       "2000    2.62   2.75   2.44       2.603333\n",
       "4000    2.63   2.53   2.54       2.566667\n",
       "8000    2.17   1.98   1.84       1.996667\n",
       "16000   1.81   1.57   1.58       1.653333"
      ]
     },
     "execution_count": 68,
     "metadata": {},
     "output_type": "execute_result"
    }
   ],
   "source": [
    "df_HFSC_rmse.head()"
   ]
  },
  {
   "cell_type": "code",
   "execution_count": 29,
   "metadata": {},
   "outputs": [],
   "source": [
    "df_local_rmse= pd.DataFrame(list(zip(size, local_rmse_1, local_rmse_2, local_rmse_3)))"
   ]
  },
  {
   "cell_type": "code",
   "execution_count": 30,
   "metadata": {},
   "outputs": [],
   "source": [
    "df_aws_rmse.columns = ['size', 'rmse1', 'rmse2', 'rmse3']"
   ]
  },
  {
   "cell_type": "code",
   "execution_count": 31,
   "metadata": {},
   "outputs": [],
   "source": [
    "df_aws_rmse = df_aws_rmse.set_index('size')"
   ]
  },
  {
   "cell_type": "code",
   "execution_count": 32,
   "metadata": {},
   "outputs": [],
   "source": [
    "df_aws_rmse['avg_rmse_AWS'] = df_aws_rmse.mean(axis=1)"
   ]
  },
  {
   "cell_type": "code",
   "execution_count": 33,
   "metadata": {},
   "outputs": [],
   "source": [
    "df_local_rmse.columns = ['size', 'rmse1', 'rmse2', 'rmse3']"
   ]
  },
  {
   "cell_type": "code",
   "execution_count": 34,
   "metadata": {},
   "outputs": [],
   "source": [
    "df_local_rmse = df_local_rmse.set_index('size')"
   ]
  },
  {
   "cell_type": "code",
   "execution_count": 35,
   "metadata": {},
   "outputs": [],
   "source": [
    "df_local_rmse['avg_rmse_local'] = df_local_rmse.mean(axis=1)"
   ]
  },
  {
   "cell_type": "code",
   "execution_count": 36,
   "metadata": {},
   "outputs": [
    {
     "data": {
      "text/html": [
       "<div>\n",
       "<style scoped>\n",
       "    .dataframe tbody tr th:only-of-type {\n",
       "        vertical-align: middle;\n",
       "    }\n",
       "\n",
       "    .dataframe tbody tr th {\n",
       "        vertical-align: top;\n",
       "    }\n",
       "\n",
       "    .dataframe thead th {\n",
       "        text-align: right;\n",
       "    }\n",
       "</style>\n",
       "<table border=\"1\" class=\"dataframe\">\n",
       "  <thead>\n",
       "    <tr style=\"text-align: right;\">\n",
       "      <th></th>\n",
       "      <th>rmse1</th>\n",
       "      <th>rmse2</th>\n",
       "      <th>rmse3</th>\n",
       "      <th>avg_rmse_AWS</th>\n",
       "    </tr>\n",
       "    <tr>\n",
       "      <th>size</th>\n",
       "      <th></th>\n",
       "      <th></th>\n",
       "      <th></th>\n",
       "      <th></th>\n",
       "    </tr>\n",
       "  </thead>\n",
       "  <tbody>\n",
       "    <tr>\n",
       "      <th>1000</th>\n",
       "      <td>2.53</td>\n",
       "      <td>2.53</td>\n",
       "      <td>2.53</td>\n",
       "      <td>2.530000</td>\n",
       "    </tr>\n",
       "    <tr>\n",
       "      <th>2000</th>\n",
       "      <td>2.54</td>\n",
       "      <td>2.46</td>\n",
       "      <td>2.44</td>\n",
       "      <td>2.480000</td>\n",
       "    </tr>\n",
       "    <tr>\n",
       "      <th>4000</th>\n",
       "      <td>2.25</td>\n",
       "      <td>2.17</td>\n",
       "      <td>2.54</td>\n",
       "      <td>2.320000</td>\n",
       "    </tr>\n",
       "    <tr>\n",
       "      <th>8000</th>\n",
       "      <td>1.84</td>\n",
       "      <td>1.88</td>\n",
       "      <td>1.84</td>\n",
       "      <td>1.853333</td>\n",
       "    </tr>\n",
       "    <tr>\n",
       "      <th>16000</th>\n",
       "      <td>1.58</td>\n",
       "      <td>1.58</td>\n",
       "      <td>1.58</td>\n",
       "      <td>1.580000</td>\n",
       "    </tr>\n",
       "  </tbody>\n",
       "</table>\n",
       "</div>"
      ],
      "text/plain": [
       "       rmse1  rmse2  rmse3  avg_rmse_AWS\n",
       "size                                    \n",
       "1000    2.53   2.53   2.53      2.530000\n",
       "2000    2.54   2.46   2.44      2.480000\n",
       "4000    2.25   2.17   2.54      2.320000\n",
       "8000    1.84   1.88   1.84      1.853333\n",
       "16000   1.58   1.58   1.58      1.580000"
      ]
     },
     "execution_count": 36,
     "metadata": {},
     "output_type": "execute_result"
    }
   ],
   "source": [
    "df_aws_rmse.head()"
   ]
  },
  {
   "cell_type": "code",
   "execution_count": 37,
   "metadata": {
    "scrolled": false
   },
   "outputs": [
    {
     "data": {
      "text/html": [
       "<div>\n",
       "<style scoped>\n",
       "    .dataframe tbody tr th:only-of-type {\n",
       "        vertical-align: middle;\n",
       "    }\n",
       "\n",
       "    .dataframe tbody tr th {\n",
       "        vertical-align: top;\n",
       "    }\n",
       "\n",
       "    .dataframe thead th {\n",
       "        text-align: right;\n",
       "    }\n",
       "</style>\n",
       "<table border=\"1\" class=\"dataframe\">\n",
       "  <thead>\n",
       "    <tr style=\"text-align: right;\">\n",
       "      <th></th>\n",
       "      <th>rmse1</th>\n",
       "      <th>rmse2</th>\n",
       "      <th>rmse3</th>\n",
       "      <th>avg_rmse_local</th>\n",
       "    </tr>\n",
       "    <tr>\n",
       "      <th>size</th>\n",
       "      <th></th>\n",
       "      <th></th>\n",
       "      <th></th>\n",
       "      <th></th>\n",
       "    </tr>\n",
       "  </thead>\n",
       "  <tbody>\n",
       "    <tr>\n",
       "      <th>1000</th>\n",
       "      <td>2.63</td>\n",
       "      <td>2.36</td>\n",
       "      <td>2.54</td>\n",
       "      <td>2.510000</td>\n",
       "    </tr>\n",
       "    <tr>\n",
       "      <th>2000</th>\n",
       "      <td>2.82</td>\n",
       "      <td>2.86</td>\n",
       "      <td>2.67</td>\n",
       "      <td>2.783333</td>\n",
       "    </tr>\n",
       "    <tr>\n",
       "      <th>4000</th>\n",
       "      <td>2.56</td>\n",
       "      <td>2.54</td>\n",
       "      <td>2.55</td>\n",
       "      <td>2.550000</td>\n",
       "    </tr>\n",
       "    <tr>\n",
       "      <th>8000</th>\n",
       "      <td>2.15</td>\n",
       "      <td>2.20</td>\n",
       "      <td>2.20</td>\n",
       "      <td>2.183333</td>\n",
       "    </tr>\n",
       "    <tr>\n",
       "      <th>16000</th>\n",
       "      <td>1.85</td>\n",
       "      <td>1.82</td>\n",
       "      <td>1.83</td>\n",
       "      <td>1.833333</td>\n",
       "    </tr>\n",
       "  </tbody>\n",
       "</table>\n",
       "</div>"
      ],
      "text/plain": [
       "       rmse1  rmse2  rmse3  avg_rmse_local\n",
       "size                                      \n",
       "1000    2.63   2.36   2.54        2.510000\n",
       "2000    2.82   2.86   2.67        2.783333\n",
       "4000    2.56   2.54   2.55        2.550000\n",
       "8000    2.15   2.20   2.20        2.183333\n",
       "16000   1.85   1.82   1.83        1.833333"
      ]
     },
     "execution_count": 37,
     "metadata": {},
     "output_type": "execute_result"
    }
   ],
   "source": [
    "df_local_rmse.head()"
   ]
  },
  {
   "cell_type": "code",
   "execution_count": 77,
   "metadata": {},
   "outputs": [
    {
     "data": {
      "image/png": "[encoded data removed]",
      "text/plain": [
       "<Figure size 840x600 with 1 Axes>"
      ]
     },
     "metadata": {
      "needs_background": "light"
     },
     "output_type": "display_data"
    }
   ],
   "source": [
    "plt.figure(figsize=(7,5), dpi= 120);\n",
    "plt.plot(df_local_rmse['avg_rmse_local'], color='blue', lw=2);\n",
    "plt.plot(df_HFSC_rmse['avg_rmse_HFSC'], color='darkorange', lw=2);\n",
    "plt.legend()\n",
    "plt.scatter(df_local_rmse.index,df_local_rmse['avg_rmse_local'], color='blue', lw=2);\n",
    "plt.scatter(df_HFSC_rmse.index,df_HFSC_rmse['avg_rmse_HFSC'], color='darkorange', lw=2);\n",
    "plt.xlim([0, 1000000]);\n",
    "plt.xlabel('SCALE: NUMBER OF INSTANCES',fontsize=12);\n",
    "plt.ylabel('RMSE',fontsize=12);\n",
    "plt.title('ALS RMSE COMPARISON ON MOVIELENS DATASET', fontdict={'size':14});\n",
    "plt.grid(alpha=0.5)\n",
    "labels = ['0','200k', '400k', '600k', '800k', '1000k']\n",
    "plt.gca().set_xticklabels(labels=labels, fontdict=None, minor=False)\n",
    "plt.show();"
   ]
  },
  {
   "cell_type": "code",
   "execution_count": 76,
   "metadata": {},
   "outputs": [
    {
     "data": {
      "image/png": "[encoded data removed]",
      "text/plain": [
       "<Figure size 840x600 with 1 Axes>"
      ]
     },
     "metadata": {
      "needs_background": "light"
     },
     "output_type": "display_data"
    }
   ],
   "source": [
    "plt.figure(figsize=(7,5), dpi= 120);\n",
    "plt.plot(df_local_rmse['avg_rmse_local'], color='blue', lw=2);\n",
    "plt.plot(df_aws_rmse['avg_rmse_AWS'], color='green', lw=2);\n",
    "plt.plot(df_HFSC_rmse['avg_rmse_HFSC'], color='darkorange', lw=2);\n",
    "plt.legend()\n",
    "plt.scatter(df_local_rmse.index,df_local_rmse['avg_rmse_local'], color='blue', lw=2);\n",
    "plt.scatter(df_aws_rmse.index,df_aws_rmse['avg_rmse_AWS'], color='green', lw=2);\n",
    "plt.scatter(df_HFSC_rmse.index,df_HFSC_rmse['avg_rmse_HFSC'], color='darkorange', lw=2);\n",
    "plt.xlim([0, 1000000]);\n",
    "plt.xlabel('SCALE: NUMBER OF INSTANCES',fontsize=12);\n",
    "plt.ylabel('RMSE',fontsize=12);\n",
    "plt.title('ALS RMSE COMPARISON ON MOVIELENS DATASET', fontdict={'size':14});\n",
    "plt.grid(alpha=0.5)\n",
    "labels = ['0','200k', '400k', '600k', '800k', '1000k']\n",
    "plt.gca().set_xticklabels(labels=labels, fontdict=None, minor=False)\n",
    "plt.show();"
   ]
  }
 ],
 "metadata": {
  "kernelspec": {
   "display_name": "Python 3",
   "language": "python",
   "name": "python3"
  },
  "language_info": {
   "codemirror_mode": {
    "name": "ipython",
    "version": 3
   },
   "file_extension": ".py",
   "mimetype": "text/x-python",
   "name": "python",
   "nbconvert_exporter": "python",
   "pygments_lexer": "ipython3",
   "version": "3.7.3"
  }
 },
 "nbformat": 4,
 "nbformat_minor": 2
}
